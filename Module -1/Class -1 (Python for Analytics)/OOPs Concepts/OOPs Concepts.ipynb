{
 "cells": [
  {
   "cell_type": "markdown",
   "metadata": {},
   "source": [
    "Creating a class\n",
    "* This class will have limited number of attributes\n",
    "* __init__ function acts like a constructor here\n",
    "* Table_details is a method inside the Data\n",
    "* The Data can be inherited by Data_set1, Data_set2 etc\n",
    "* This class is re-usable"
   ]
  },
  {
   "cell_type": "code",
   "execution_count": 78,
   "metadata": {},
   "outputs": [],
   "source": [
    "class DE_class:\n",
    "    class_type = \"Data Engineering\"                       # class attribute\n",
    "    \n",
    "    def __init__(self, class_name, number_of_classes):   # the constructor method\n",
    "        self.name = class_name                           # instance attribute   \n",
    "        self.total_classes = number_of_classes           # instance attribute\n",
    "        \n",
    "    def description(self):                               # instance method - This method has no additional parameter. \n",
    "                                                         #This method is using the instance attributes.\n",
    "            \n",
    "        return f\"The {self.class_type} will have {self.total_classes} classes for {self.name} module\"\n",
    "    \n",
    "    "
   ]
  },
  {
   "cell_type": "code",
   "execution_count": 79,
   "metadata": {},
   "outputs": [],
   "source": [
    "Session1=DE_class(\"Python for DE\",3)"
   ]
  },
  {
   "cell_type": "code",
   "execution_count": 81,
   "metadata": {},
   "outputs": [
    {
     "name": "stdout",
     "output_type": "stream",
     "text": [
      "Data Engineering\n",
      "The Data Engineering will have 3 classes for Python for DE module\n"
     ]
    }
   ],
   "source": [
    "print(Session1.class_type)\n",
    "print(Session1.description())"
   ]
  },
  {
   "cell_type": "code",
   "execution_count": 90,
   "metadata": {},
   "outputs": [],
   "source": [
    "class DE_class:                                           #parent class\n",
    "    class_type = \"Data Engineering\"                       # class attribute\n",
    "    \n",
    "    def __init__(self, class_name, number_of_classes):\n",
    "        self.name = class_name \n",
    "        self.total_classes = number_of_classes \n",
    "\n",
    "    def description(self):                               # instance method - This method has no additional parameter. \n",
    "                                                         #This method is using the instance attributes.\n",
    "            \n",
    "        return f\"The {self.class_type} will have {self.total_classes} classes for {self.name} module\"\n",
    "    \n",
    "class Python(DE_class):     #child class\n",
    "    pass\n",
    "\n",
    "class SQL(DE_class):        #child class\n",
    "    def sql_desc(self):\n",
    "        return \"This is the description method of class SQL.\""
   ]
  },
  {
   "cell_type": "code",
   "execution_count": 91,
   "metadata": {},
   "outputs": [
    {
     "name": "stdout",
     "output_type": "stream",
     "text": [
      "The Data Engineering will have 3 classes for Python for DE module\n",
      "The Data Engineering will have 2 classes for SQL for DE module\n",
      "This is the description method of class SQL.\n"
     ]
    }
   ],
   "source": [
    "obj1 = Python(\"Python for DE\",3)\n",
    "print(obj1.description())\n",
    "\n",
    "obj2 = SQL(\"SQL for DE\",2)\n",
    "print(obj2.description())\n",
    "print(obj2.sql_desc())"
   ]
  },
  {
   "cell_type": "code",
   "execution_count": null,
   "metadata": {},
   "outputs": [],
   "source": []
  },
  {
   "cell_type": "code",
   "execution_count": null,
   "metadata": {},
   "outputs": [],
   "source": []
  },
  {
   "cell_type": "code",
   "execution_count": null,
   "metadata": {},
   "outputs": [],
   "source": []
  },
  {
   "cell_type": "code",
   "execution_count": null,
   "metadata": {},
   "outputs": [],
   "source": []
  },
  {
   "cell_type": "code",
   "execution_count": null,
   "metadata": {},
   "outputs": [],
   "source": []
  },
  {
   "cell_type": "code",
   "execution_count": 53,
   "metadata": {},
   "outputs": [],
   "source": [
    "class Data:                                                              # Class\n",
    "    def __init__(self,table_name,row_count,feature_count,fact_table):    # Class Constructor\n",
    "        self.Name_of_Table=table_name                                    # statements inside the constructor method\n",
    "        self.Records=row_count\n",
    "        self.Total_Columns=feature_count\n",
    "        self.Type=fact_table\n",
    "        \n",
    "    def Table_details(self):                                             # Class method\n",
    "        return \"Table as input to model: {}\".format(self.Type)\n",
    "    \n",
    "    Data_set_1=Data(\"Customer\",10000,20,0)                               # Object\n",
    "    \n",
    "    "
   ]
  },
  {
   "cell_type": "code",
   "execution_count": 54,
   "metadata": {},
   "outputs": [],
   "source": [
    "\n",
    "Data1=Data(\"Customer\",10000,20,0)"
   ]
  },
  {
   "cell_type": "code",
   "execution_count": 55,
   "metadata": {},
   "outputs": [
    {
     "data": {
      "text/plain": [
       "'Table as input to model: 0'"
      ]
     },
     "execution_count": 55,
     "metadata": {},
     "output_type": "execute_result"
    }
   ],
   "source": [
    "Data1.Table_details()"
   ]
  },
  {
   "cell_type": "code",
   "execution_count": 57,
   "metadata": {},
   "outputs": [
    {
     "name": "stdout",
     "output_type": "stream",
     "text": [
      "Customer\n"
     ]
    }
   ],
   "source": [
    "print(Data1.Name_of_Table)"
   ]
  },
  {
   "cell_type": "code",
   "execution_count": 13,
   "metadata": {},
   "outputs": [
    {
     "name": "stdout",
     "output_type": "stream",
     "text": [
      "<__main__.Car object at 0x0000023CACF67EB0>\n"
     ]
    }
   ],
   "source": [
    "obj1 = BMW(\"BMW 7-series\",39.53) \n",
    "print(obj1.description()) \n",
    "obj2 = Audi(\"Audi A8 L\",14)\n",
    "print(obj2.description()) \n",
    "print(obj2.audi_desc())"
   ]
  },
  {
   "cell_type": "code",
   "execution_count": null,
   "metadata": {},
   "outputs": [],
   "source": []
  },
  {
   "cell_type": "code",
   "execution_count": 102,
   "metadata": {},
   "outputs": [],
   "source": [
    "class Data:                                                              # Class\n",
    "    def __init__(self,table_name,row_count,feature_count,fact_table):    # Class Constructor\n",
    "        \n",
    "        self._Name=table_name                                    # protected variable\n",
    "        self.Records=row_count\n",
    "        self.Total_Columns=feature_count\n",
    "        self.Type=fact_table\n",
    "        \n",
    "    def description(self):                                             # Class method\n",
    "        return f\"The {self._Name} has str of {self.Records} * {self.Total_Columns} and status on i/p to model is{self.Type}\"\n",
    "    "
   ]
  },
  {
   "cell_type": "code",
   "execution_count": 103,
   "metadata": {},
   "outputs": [
    {
     "name": "stdout",
     "output_type": "stream",
     "text": [
      "The Customer has str of 10000 * 20 and status on i/p to model is0\n"
     ]
    }
   ],
   "source": [
    "Data_set_1=Data(\"Customer\",10000,20,0)\n",
    "\n",
    "#accessing protected variable via class method \n",
    "\n",
    "print(Data_set_1.description())"
   ]
  },
  {
   "cell_type": "code",
   "execution_count": 104,
   "metadata": {},
   "outputs": [],
   "source": [
    "class Data:                                                              # Class\n",
    "    def __init__(self,table_name,row_count,feature_count,fact_table):    # Class Constructor\n",
    "        \n",
    "        self._Name=table_name                                    # protected variable\n",
    "        self.__Records=row_count                                 # private variable\n",
    "        self.__Total_Columns=feature_count                       # private variable\n",
    "        self.Type=fact_table                                     # public\n",
    "        \n",
    "    def description(self):                                             # Class method\n",
    "        return f\"The {self._Name} has str of {self.__Records} * {self.__Total_Columns} and status on fact is {self.Type}\"\n",
    "    "
   ]
  },
  {
   "cell_type": "code",
   "execution_count": 108,
   "metadata": {},
   "outputs": [
    {
     "name": "stdout",
     "output_type": "stream",
     "text": [
      "The Customer has str of 10000 * 20 and status on fact is 0\n",
      "0\n",
      "Customer\n"
     ]
    },
    {
     "ename": "AttributeError",
     "evalue": "'Data' object has no attribute '__Records'",
     "output_type": "error",
     "traceback": [
      "\u001b[1;31m---------------------------------------------------------------------------\u001b[0m",
      "\u001b[1;31mAttributeError\u001b[0m                            Traceback (most recent call last)",
      "\u001b[1;32m<ipython-input-108-db21f61234fc>\u001b[0m in \u001b[0;36m<module>\u001b[1;34m\u001b[0m\n\u001b[0;32m      9\u001b[0m \u001b[0mprint\u001b[0m\u001b[1;33m(\u001b[0m\u001b[0mData_set_1\u001b[0m\u001b[1;33m.\u001b[0m\u001b[0mType\u001b[0m\u001b[1;33m)\u001b[0m\u001b[1;33m\u001b[0m\u001b[1;33m\u001b[0m\u001b[0m\n\u001b[0;32m     10\u001b[0m \u001b[0mprint\u001b[0m\u001b[1;33m(\u001b[0m\u001b[0mData_set_1\u001b[0m\u001b[1;33m.\u001b[0m\u001b[0m_Name\u001b[0m\u001b[1;33m)\u001b[0m\u001b[1;33m\u001b[0m\u001b[1;33m\u001b[0m\u001b[0m\n\u001b[1;32m---> 11\u001b[1;33m \u001b[0mprint\u001b[0m\u001b[1;33m(\u001b[0m\u001b[0mData_set_1\u001b[0m\u001b[1;33m.\u001b[0m\u001b[0m__Records\u001b[0m\u001b[1;33m)\u001b[0m\u001b[1;33m\u001b[0m\u001b[1;33m\u001b[0m\u001b[0m\n\u001b[0m",
      "\u001b[1;31mAttributeError\u001b[0m: 'Data' object has no attribute '__Records'"
     ]
    }
   ],
   "source": [
    "Data_set_1=Data(\"Customer\",10000,20,0)\n",
    "\n",
    "#accessing protected variable via class method \n",
    "\n",
    "print(Data_set_1.description())\n",
    "\n",
    "#accessing public, protected and private variable directly from outside\n",
    "\n",
    "print(Data_set_1.Type)\n",
    "print(Data_set_1._Name)\n",
    "print(Data_set_1.__Records)\n"
   ]
  },
  {
   "cell_type": "code",
   "execution_count": 111,
   "metadata": {},
   "outputs": [
    {
     "name": "stdout",
     "output_type": "stream",
     "text": [
      "This the description of class Python.\n",
      "This the description of class SQL.\n"
     ]
    }
   ],
   "source": [
    "class Python:\n",
    "  def description(self):\n",
    "    print(\"This the description of class Python.\")\n",
    "\n",
    "class SQL:\n",
    "  def description(self):\n",
    "    print(\"This the description of class SQL.\")\n",
    "    \n",
    "class1 = Python()\n",
    "class2 = SQL()\n",
    "for Data_Engineering in (class1,class2):\n",
    " Data_Engineering.description()"
   ]
  },
  {
   "cell_type": "markdown",
   "metadata": {},
   "source": [
    "When the function is called using the object class1 then the function of class <b>Python</b> is called and when it is called using the object class2 then the function of class <b>SQL</b> is called."
   ]
  },
  {
   "cell_type": "code",
   "execution_count": 114,
   "metadata": {},
   "outputs": [
    {
     "name": "stdout",
     "output_type": "stream",
     "text": [
      "Area of a rectangle: 24\n",
      "Area of a circle: 153.86\n"
     ]
    }
   ],
   "source": [
    "from abc import ABC  # abc refers to abstract base class\n",
    "class type_shape(ABC): \n",
    "  def area(self): \n",
    "    #abstract method\n",
    "    pass\n",
    "\n",
    "class Rectangle(type_shape):\n",
    "  length = 6\n",
    "  breadth = 4\n",
    "  def area(self):\n",
    "    return self.length * self.breadth\n",
    "\n",
    "class Circle(type_shape):\n",
    "  radius = 7\n",
    "  def area(self):\n",
    "    return 3.14 * self.radius * self.radius\n",
    "\n",
    "\n",
    "r = Rectangle() # object created for the class 'Rectangle'\n",
    "c = Circle() # object created for the class 'Circle'\n",
    "\n",
    "print(\"Area of a rectangle:\", r.area()) # call to 'area' method defined inside the class.\n",
    "print(\"Area of a circle:\", c.area()) # call to 'area' method defined inside the class."
   ]
  },
  {
   "cell_type": "code",
   "execution_count": null,
   "metadata": {},
   "outputs": [],
   "source": [
    "class Data(ABC):                                                              # Class\n",
    "    def __init__(self,table_name,row_count,feature_count,fact_table):    # Class Constructor\n",
    "        \n",
    "        self._Name=table_name                                    # protected variable\n",
    "        self.Records=row_count\n",
    "        self.Total_Columns=feature_count\n",
    "        self.Type=fact_table\n",
    "        \n",
    "    def description(self):                                             # Class method\n",
    "        return f\"The {self._Name} has str of {self.Records} * {self.Total_Columns} and status on i/p to model is{self.Type}\"\n",
    "\n",
    "class structure(Data):\n",
    "    "
   ]
  },
  {
   "cell_type": "code",
   "execution_count": 124,
   "metadata": {},
   "outputs": [
    {
     "name": "stdout",
     "output_type": "stream",
     "text": [
      "Input Dataset is a structed dataset based on   :  Logic implented to check whether the dataset is a Structured Data\n",
      "Input Dataset is an unstructed dataset based on:  Logic implented to check whether the dataset is a Unstructured Data\n"
     ]
    }
   ],
   "source": [
    "from abc import ABC  # abc refers to abstract base class\n",
    "\n",
    "class Structure_Data(ABC):\n",
    "  def description(self):\n",
    "    return \"Logic implented to check whether the dataset is a Structured Data\"\n",
    "\n",
    "class Unstructure_Data(ABC):\n",
    "  def description(self):\n",
    "    return \"Logic implented to check whether the dataset is a Unstructured Data\"\n",
    "    \n",
    "# object 's' created for the class 'Structure_Data'\n",
    "s = Structure_Data()\n",
    "\n",
    "# object 'u' created for the class 'Unstructure_Data'\n",
    "u = Unstructure_Data() \n",
    "\n",
    "\n",
    "# call the 'description' method defined inside the class to identify datasets\n",
    "print(\"Input Dataset is a structed dataset based on   : \", s.description()) \n",
    "print(\"Input Dataset is an unstructed dataset based on: \", u.description()) \n"
   ]
  },
  {
   "cell_type": "code",
   "execution_count": null,
   "metadata": {},
   "outputs": [],
   "source": []
  }
 ],
 "metadata": {
  "kernelspec": {
   "display_name": "Python 3",
   "language": "python",
   "name": "python3"
  },
  "language_info": {
   "codemirror_mode": {
    "name": "ipython",
    "version": 3
   },
   "file_extension": ".py",
   "mimetype": "text/x-python",
   "name": "python",
   "nbconvert_exporter": "python",
   "pygments_lexer": "ipython3",
   "version": "3.8.5"
  }
 },
 "nbformat": 4,
 "nbformat_minor": 4
}
